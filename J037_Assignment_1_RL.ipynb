{
  "cells": [
    {
      "cell_type": "code",
      "execution_count": 1,
      "id": "1fd5c181",
      "metadata": {
        "id": "1fd5c181"
      },
      "outputs": [],
      "source": [
        "import gymnasium as gym\n",
        "import numpy as np"
      ]
    },
    {
      "cell_type": "markdown",
      "id": "3536d1b9",
      "metadata": {
        "id": "3536d1b9"
      },
      "source": [
        "# Task 1: Environment Testing\n",
        "\n",
        "### Environment 1: MountainCar-v0"
      ]
    },
    {
      "cell_type": "code",
      "execution_count": 2,
      "id": "f0d6b814",
      "metadata": {
        "colab": {
          "base_uri": "https://localhost:8080/"
        },
        "id": "f0d6b814",
        "outputId": "a66bd8d8-9892-4598-f82e-e6482c6f9660"
      },
      "outputs": [
        {
          "output_type": "stream",
          "name": "stdout",
          "text": [
            "Episodes completed: 2\n",
            "Average episode length: 250.0\n"
          ]
        }
      ],
      "source": [
        "env = gym.make(\"MountainCar-v0\", render_mode=\"human\")\n",
        "\n",
        "observation, info = env.reset(seed=42)\n",
        "total_steps = 0\n",
        "episodes_completed = 0\n",
        "\n",
        "for _ in range(500):\n",
        "    action = env.action_space.sample()\n",
        "    observation, reward, terminated, truncated, info = env.step(action)\n",
        "    total_steps += 1\n",
        "\n",
        "    if terminated or truncated:\n",
        "        episodes_completed += 1\n",
        "        observation, info = env.reset()\n",
        "\n",
        "env.close()\n",
        "print(f\"Episodes completed: {episodes_completed}\")\n",
        "print(f\"Average episode length: {total_steps / max(episodes_completed, 1):.1f}\")"
      ]
    },
    {
      "cell_type": "markdown",
      "id": "ddc1fa61",
      "metadata": {
        "id": "ddc1fa61"
      },
      "source": [
        "### Environment 2: Acrobot-v1"
      ]
    },
    {
      "cell_type": "code",
      "execution_count": 3,
      "id": "cd6cf45f",
      "metadata": {
        "colab": {
          "base_uri": "https://localhost:8080/"
        },
        "id": "cd6cf45f",
        "outputId": "08b03f06-947b-420c-bacd-6de530913ddc"
      },
      "outputs": [
        {
          "output_type": "stream",
          "name": "stdout",
          "text": [
            "Episodes completed: 1\n",
            "Average episode length: 500.0\n",
            "Average reward per episode: -500.0\n"
          ]
        }
      ],
      "source": [
        "env = gym.make(\"Acrobot-v1\", render_mode=\"human\")\n",
        "\n",
        "observation, info = env.reset(seed=42)\n",
        "total_reward = 0\n",
        "total_steps = 0\n",
        "episodes_completed = 0\n",
        "\n",
        "for _ in range(500):\n",
        "    action = env.action_space.sample()\n",
        "    observation, reward, terminated, truncated, info = env.step(action)\n",
        "    total_reward += reward\n",
        "    total_steps += 1\n",
        "\n",
        "    if terminated or truncated:\n",
        "        episodes_completed += 1\n",
        "        observation, info = env.reset()\n",
        "\n",
        "env.close()\n",
        "print(f\"Episodes completed: {episodes_completed}\")\n",
        "print(f\"Average episode length: {total_steps / max(episodes_completed, 1):.1f}\")\n",
        "print(f\"Average reward per episode: {total_reward / max(episodes_completed, 1):.1f}\")"
      ]
    },
    {
      "cell_type": "markdown",
      "id": "7b06de17",
      "metadata": {
        "id": "7b06de17"
      },
      "source": [
        "# Task 2: Environment Analysis"
      ]
    },
    {
      "cell_type": "code",
      "execution_count": 4,
      "id": "57d93790",
      "metadata": {
        "colab": {
          "base_uri": "https://localhost:8080/"
        },
        "id": "57d93790",
        "outputId": "685d5ebc-012d-4d43-a8a6-906fefb077c1"
      },
      "outputs": [
        {
          "output_type": "stream",
          "name": "stdout",
          "text": [
            "\n",
            "=== MountainCar-v0 ===\n",
            "Observation space: Box([-1.2  -0.07], [0.6  0.07], (2,), float32)\n",
            "Action space: Discrete(3)\n",
            "\n",
            "=== Acrobot-v1 ===\n",
            "Observation space: Box([ -1.        -1.        -1.        -1.       -12.566371 -28.274334], [ 1.        1.        1.        1.       12.566371 28.274334], (6,), float32)\n",
            "Action space: Discrete(3)\n"
          ]
        }
      ],
      "source": [
        "envs = [\"MountainCar-v0\", \"Acrobot-v1\"]\n",
        "\n",
        "for env_name in envs:\n",
        "    env = gym.make(env_name)\n",
        "    print(f\"\\n=== {env_name} ===\")\n",
        "    print(f\"Observation space: {env.observation_space}\")\n",
        "    print(f\"Action space: {env.action_space}\")\n",
        "    env.close()"
      ]
    },
    {
      "cell_type": "markdown",
      "id": "520e888a",
      "metadata": {
        "id": "520e888a"
      },
      "source": [
        "##**MountainCar-v0 Analysis**\n",
        "**Observation Space:** Box(2,) - Two continuous values:\n",
        "- Position of car along x-axis (-1.2 to 0.6)\n",
        "- Velocity of car (-0.07 to 0.07)\n",
        "\n",
        "**Action Space:** Discrete(3) - Three actions:\n",
        "- 0: Push left\n",
        "- 1: No push (neutral)\n",
        "- 2: Push right\n",
        "\n",
        "**Goal:** Get the car to reach the flag at position 0.5 on the right hill\n",
        "\n",
        "**Episode Length:** Usually 200 steps (max limit) since random actions rarely succeed\n",
        "\n",
        "**Challenges:**\n",
        "- Car lacks power to drive up the hill directly\n",
        "- Must build momentum by rocking back and forth\n",
        "- Sparse reward structure (only +1 when reaching goal)\n",
        "- Random actions typically result in getting stuck in the valley"
      ]
    },
    {
      "cell_type": "markdown",
      "id": "1c86eb15",
      "metadata": {
        "id": "1c86eb15"
      },
      "source": [
        "#### MountainCar Observation Space\n",
        "```\n",
        "Box([-1.2 -0.07], [0.6 0.07], (2,), float32)\n",
        "```\n",
        "- **Position**: Range [-1.2, 0.6] represents the valley (negative) to goal hill (positive)\n",
        "- **Velocity**: Range [-0.07, 0.07] shows limited speed capabilities\n",
        "- **Insight**: The narrow velocity range explains why direct climbing is impossible - the car simply cannot build enough speed in one direction"
      ]
    },
    {
      "cell_type": "markdown",
      "id": "e7adffc0",
      "metadata": {
        "id": "e7adffc0"
      },
      "source": [
        "## **Acrobot-v1 Analysis**\n",
        "\n",
        "**Observation Space:** Box(6,) - Six continuous values representing joint angles and velocities\n",
        "\n",
        "**Action Space:** Discrete(3) - Three torque actions:\n",
        "- 0: Apply -1 torque\n",
        "- 1: Apply 0 torque  \n",
        "- 2: Apply +1 torque\n",
        "\n",
        "**Goal:** Swing the double pendulum up so the tip reaches above a certain height\n",
        "\n",
        "**Episode Length:** Around 200-500 steps, ends when goal is reached or max steps\n",
        "\n",
        "**Challenges:**\n",
        "- Underactuated system (can only control one joint)\n",
        "- Must use momentum and gravity to swing up\n",
        "- Precise timing needed for successful swings"
      ]
    },
    {
      "cell_type": "markdown",
      "id": "e2dc7c51",
      "metadata": {
        "id": "e2dc7c51"
      },
      "source": [
        "#### Acrobot Observation Space  \n",
        "```\n",
        "Box([-1. -1. -1. -1. -12.566371 -28.274334], [1. 1. 1. 1. 12.566371 28.274334], (6,), float32)\n",
        "```\n",
        "- **Joint Angles** (first 4 values): Normalized to [-1, 1] using sine/cosine representations\n",
        "- **Angular Velocities** (last 2 values): Much larger ranges (±12.57, ±28.27 rad/s)\n",
        "- **Insight**: The high angular velocity limits suggest this system can build significant rotational energy"
      ]
    },
    {
      "cell_type": "code",
      "source": [],
      "metadata": {
        "id": "-jVJ1pT08qnc"
      },
      "id": "-jVJ1pT08qnc",
      "execution_count": 4,
      "outputs": []
    }
  ],
  "metadata": {
    "kernelspec": {
      "display_name": "Python 3",
      "language": "python",
      "name": "python3"
    },
    "language_info": {
      "codemirror_mode": {
        "name": "ipython",
        "version": 3
      },
      "file_extension": ".py",
      "mimetype": "text/x-python",
      "name": "python",
      "nbconvert_exporter": "python",
      "pygments_lexer": "ipython3",
      "version": "3.12.6"
    },
    "colab": {
      "provenance": []
    }
  },
  "nbformat": 4,
  "nbformat_minor": 5
}